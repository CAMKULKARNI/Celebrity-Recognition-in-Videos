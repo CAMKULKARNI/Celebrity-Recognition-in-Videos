{
 "cells": [
  {
   "cell_type": "code",
   "execution_count": null,
   "metadata": {},
   "outputs": [],
   "source": [
    "from os import getcwd, path\n",
    "\n",
    "from videoToImage import function as VTI\n",
    "from video_processing import function as V_P\n",
    "from faceExtraction import function as F_E\n",
    "from bfs_prediction import function as F_R\n",
    "# from siamese_prediction import function as F_R"
   ]
  },
  {
   "cell_type": "code",
   "execution_count": null,
   "metadata": {},
   "outputs": [],
   "source": [
    "index = 0\n",
    "video_name = \"\"\n",
    "percentKeyFrames = 0.1\n",
    "results = []"
   ]
  },
  {
   "cell_type": "code",
   "execution_count": null,
   "metadata": {},
   "outputs": [],
   "source": [
    "workingDirectory = getcwd()"
   ]
  },
  {
   "cell_type": "code",
   "execution_count": null,
   "metadata": {},
   "outputs": [],
   "source": [
    "VTI(workingDirectory=workingDirectory, video_path=f'{path.join(workingDirectory, video_name) + \".mp4\"}', newImageFolder=\"data\", chunk_size=350)"
   ]
  },
  {
   "cell_type": "code",
   "execution_count": null,
   "metadata": {},
   "outputs": [],
   "source": [
    "V_P(workingDirectory=workingDirectory, imageFolderName=\"data\", newFolderName=\"Key Frames\", percentKeyFrames=percentKeyFrames)"
   ]
  },
  {
   "cell_type": "code",
   "execution_count": null,
   "metadata": {},
   "outputs": [],
   "source": [
    "F_E(workingDirectory=workingDirectory, imageFolderName=\"Key Frames\", newFolderName=\"Faces\")"
   ]
  },
  {
   "cell_type": "code",
   "execution_count": null,
   "metadata": {},
   "outputs": [],
   "source": [
    "results = F_R(workingDirectory=workingDirectory, imageFolderName=\"Faces\", reference_images=\"new dataset\")\n",
    "print(results)"
   ]
  }
 ],
 "metadata": {
  "kernelspec": {
   "display_name": "tensorflow",
   "language": "python",
   "name": "python3"
  },
  "language_info": {
   "codemirror_mode": {
    "name": "ipython",
    "version": 3
   },
   "file_extension": ".py",
   "mimetype": "text/x-python",
   "name": "python",
   "nbconvert_exporter": "python",
   "pygments_lexer": "ipython3",
   "version": "3.12.7"
  }
 },
 "nbformat": 4,
 "nbformat_minor": 2
}
